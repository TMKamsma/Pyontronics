{
 "cells": [
  {
   "cell_type": "markdown",
   "metadata": {},
   "source": [
    "# Demo File\n",
    "This demo tests the functionality of the EchoStateNetwork with different time series"
   ]
  },
  {
   "cell_type": "code",
   "execution_count": null,
   "metadata": {},
   "outputs": [],
   "source": [
    "import matplotlib.pyplot as plt\n",
    "import numpy as np\n",
    "\n",
    "from ESN import EchoStateNetwork, MackeyGlassGenerator,GinfActivator, visualize_reservoir, BandPassNetwork\n",
    "\n",
    "ginf_activator = GinfActivator(V_min=-2, V_max=2, resolution=200, offset=True)\n",
    "\n",
    "\n",
    "def mse(test, predictions):\n",
    "    return np.mean((predictions - test) ** 2)"
   ]
  },
  {
   "cell_type": "markdown",
   "metadata": {},
   "source": [
    "## Steady State Conductance Activator"
   ]
  },
  {
   "cell_type": "code",
   "execution_count": null,
   "metadata": {},
   "outputs": [],
   "source": [
    "fig, axs = plt.subplots(2, 1, figsize=(5.4, 5.4), layout='constrained')\n",
    "x = np.arange(100)\n",
    "for nn, ax in enumerate(axs):\n",
    "    ax.plot(x, x)\n",
    "    if nn == 1:\n",
    "        ax.set_title('Manual ticks')\n",
    "        ax.set_yticks(np.arange(0, 100.1, 100/3))\n",
    "        xticks = np.arange(0.50, 101, 20)\n",
    "        xlabels = [f'\\\\${x:1.2f}' for x in xticks]\n",
    "        ax.set_xticks(xticks, labels=xlabels)\n",
    "    else:\n",
    "        ax.set_title('Automatic ticks')"
   ]
  },
  {
   "cell_type": "code",
   "execution_count": null,
   "metadata": {},
   "outputs": [],
   "source": [
    "lookup_table = ginf_activator.get_lookup_table()\n",
    "\n",
    "plt.figure(figsize=(3, 2))\n",
    "plt.plot(\n",
    "    lookup_table[0],\n",
    "    lookup_table[1],\n",
    "    label=r\"$g_{\\infty}(V)$\",\n",
    "    color=\"blue\",\n",
    "    linewidth=2,\n",
    ")\n",
    "plt.xlabel(r\"$V \\;[\\text{V}]$\", fontsize=14)\n",
    "plt.ylabel(r\"$g_{\\infty}(V)$\", fontsize=14)\n",
    "#plt.grid(True, linestyle=\"--\", alpha=0.6)\n",
    "plt.xticks(np.arange(-2,2.5,1),fontsize=12)\n",
    "plt.yticks(np.arange(-1,1.05,0.5),fontsize=12)\n",
    "#plt.legend(fontsize=12)        \n",
    "plt.savefig(\"output/ginf_activator_plot.pdf\",bbox_inches='tight')\n",
    "plt.savefig(\"output/ginf_activator_plot.png\",bbox_inches='tight')"
   ]
  },
  {
   "cell_type": "markdown",
   "metadata": {},
   "source": [
    "## ESN with Mackey-Glass time series"
   ]
  },
  {
   "cell_type": "code",
   "execution_count": null,
   "metadata": {},
   "outputs": [],
   "source": [
    "esn = EchoStateNetwork(\n",
    "    input_dim=1,\n",
    "    reservoir_size=10,\n",
    "    output_dim=1,\n",
    "    leaking_rate=1,\n",
    "    step_size=0.1,\n",
    "    time_scale=1,\n",
    "    spectral_radius=0.9, #guarantee_ESP could change spectral radius if True\n",
    "    sparsity=0.85,\n",
    "    input_scaling=0.5,\n",
    "    regularization=1e-6,\n",
    "    weight_seed=35,\n",
    "    activation=ginf_activator.activate,\n",
    "    guarantee_ESP=True,\n",
    ")"
   ]
  },
  {
   "cell_type": "code",
   "execution_count": null,
   "metadata": {},
   "outputs": [],
   "source": [
    "# Generate Mackey-Glass time series\n",
    "dt_mg = 1\n",
    "mg_series = MackeyGlassGenerator(tau=17, n=100000, n_samples=50000, dt=dt_mg)\n",
    "\n",
    "# Normalize data between -1 and 1\n",
    "mg_series = 2 * (mg_series - mg_series.min()) / (mg_series.max() - mg_series.min()) - 1\n",
    "\n",
    "# Create input/output pairs for time series prediction\n",
    "inputs = mg_series[:-1].reshape(-1, 1)\n",
    "targets = mg_series[1:].reshape(-1, 1)\n",
    "\n",
    "# Split into train and test sets\n",
    "train_len = 40000\n",
    "test_len = 4000\n",
    "train_inputs = inputs[:train_len]\n",
    "train_targets = targets[:train_len]\n",
    "test_inputs = inputs[train_len : train_len + test_len]\n",
    "test_targets = targets[train_len : train_len + test_len]"
   ]
  },
  {
   "cell_type": "code",
   "execution_count": null,
   "metadata": {},
   "outputs": [],
   "source": [
    "esn = EchoStateNetwork(\n",
    "    input_dim=1,\n",
    "    reservoir_size=100,\n",
    "    output_dim=1,\n",
    "    leaking_rate=0.9,\n",
    "    step_size=dt_mg,\n",
    "    time_scale=1/0.45,\n",
    "    spectral_radius=0.9,\n",
    "    sparsity=0.85,\n",
    "    input_scaling=0.5,\n",
    "    regularization=1e-6,\n",
    "    washout = round(train_len/400),\n",
    "    activation=ginf_activator.activate,\n",
    "    guarantee_ESP=False,\n",
    ")\n",
    "\n",
    "# Train on first part of series\n",
    "esn.fit(train_inputs, train_targets)\n",
    "\n",
    "# Generate predictions on test set\n",
    "teacher_ratio = 0.2\n",
    "predictions = esn.predict(test_inputs, teacher_ratio=teacher_ratio)\n",
    "\n",
    "# Calculate prediction error after network settled from np.zeroes initialization\n",
    "print(f\"{mse(test_targets, predictions) = }\")\n",
    "\n",
    "print(f\"{esn.physical_length = }\")\n",
    "teacher_mode = int(len(test_targets)*teacher_ratio)\n",
    "print(f\"{teacher_mode = }\")"
   ]
  },
  {
   "cell_type": "code",
   "execution_count": null,
   "metadata": {},
   "outputs": [],
   "source": [
    "bpn = BandPassNetwork(\n",
    "    input_dim=1,\n",
    "    reservoir_size=100,\n",
    "    output_dim=1,\n",
    "    leaking_rate=0.9,\n",
    "    step_size=dt_mg,\n",
    "    time_scale_avg=1/0.45,\n",
    "    time_scale_std=0.4,\n",
    "    spectral_radius=0.9,\n",
    "    sparsity=0.85,\n",
    "    input_scaling=0.5,\n",
    "    regularization=1e-6,\n",
    "    washout = round(train_len/400),\n",
    "    activation=ginf_activator.activate,\n",
    "    guarantee_ESP=False,\n",
    ")\n",
    "\n",
    "# Train on first part of series\n",
    "bpn.fit(train_inputs, train_targets)\n",
    "\n",
    "# Generate predictions on test set\n",
    "teacher_ratio = 0.2\n",
    "predictions = bpn.predict(test_inputs, teacher_ratio=teacher_ratio)\n",
    "\n",
    "# Calculate prediction error after network settled from np.zeroes initialization\n",
    "print(f\"{mse(test_targets, predictions) = }\")\n",
    "\n",
    "print(f\"{esn.physical_length = }\")\n",
    "teacher_mode = int(len(test_targets)*teacher_ratio)\n",
    "print(f\"{teacher_mode = }\")"
   ]
  },
  {
   "cell_type": "code",
   "execution_count": null,
   "metadata": {},
   "outputs": [],
   "source": [
    "cutoff_min = 500\n",
    "cutoff_max = 1500\n",
    "\n",
    "plt.figure(figsize=(6, 3))\n",
    "plt.axvline(x=teacher_mode, linestyle=\"--\", color='black')\n",
    "plt.text(cutoff_min+180, 1.2, 'Teacher-forced:\\nOnly next step predicted', dict(size=10), horizontalalignment='center')\n",
    "plt.text(cutoff_max-180, 1.2, 'Free-running:\\nNetwork output is next input', dict(size=10), horizontalalignment='center')\n",
    "plt.plot(test_targets, label=\"True MG series\", alpha=1, color='blue')\n",
    "plt.plot(predictions, label=\"ESN predictions\", linestyle=\"--\", alpha=1, color='red')\n",
    "# plt.title(\"Mackey-Glass Time Series Prediction (First 400 Steps)\")\n",
    "plt.xlabel(\"Time [s]\", fontsize=14)\n",
    "plt.ylabel(\"Amplitude [a.u.]\", fontsize=14)\n",
    "plt.xlim(cutoff_min, cutoff_max)\n",
    "plt.ylim(-1.15, 1.15)\n",
    "plt.legend(loc='lower right',framealpha=1)\n",
    "plt.savefig(\"output/mg_prediction_plot.pdf\")\n",
    "plt.savefig(\"output/mg_prediction_plot.png\")"
   ]
  },
  {
   "cell_type": "code",
   "execution_count": null,
   "metadata": {},
   "outputs": [],
   "source": [
    "# Plot phase space reconstruction\n",
    "plt.figure(figsize=(8, 6))\n",
    "plt.plot(\n",
    "    test_targets[:-1][:5000],\n",
    "    test_targets[1:][:5000],\n",
    "    \"b-\",\n",
    "    alpha=0.5,\n",
    "    label=\"True\",\n",
    ")\n",
    "plt.plot(\n",
    "    predictions[:-1][:5000],\n",
    "    predictions[1:][:5000],\n",
    "    \"r--\",\n",
    "    alpha=0.5,\n",
    "    label=\"Predicted\",\n",
    ")\n",
    "plt.title(\"Phase Space Reconstruction\")\n",
    "plt.xlabel(\"x(t)\")\n",
    "plt.ylabel(\"x(t+1)\")\n",
    "plt.legend()\n",
    "plt.savefig(\"output/mg_phase_space_plot.pdf\")\n",
    "plt.savefig(\"output/mg_phase_space_plot.png\")"
   ]
  },
  {
   "cell_type": "code",
   "execution_count": null,
   "metadata": {},
   "outputs": [],
   "source": [
    "#visualize_reservoir(esn)"
   ]
  },
  {
   "cell_type": "markdown",
   "metadata": {},
   "source": [
    "## ESN with Harmonic Wave time series"
   ]
  },
  {
   "cell_type": "code",
   "execution_count": null,
   "metadata": {},
   "outputs": [],
   "source": [
    "# Generate synthetic data (simple sine wave prediction)\n",
    "t = np.linspace(0, 80 * np.pi, 800)\n",
    "dt_harmonic = 80 * np.pi/800\n",
    "data = np.sin(t) * np.cos(1.2*t)\n",
    "\n",
    "# Create input/output pairs for time series prediction\n",
    "inputs = data[:-1].reshape(-1, 1)\n",
    "targets = data[1:].reshape(-1, 1)"
   ]
  },
  {
   "cell_type": "code",
   "execution_count": null,
   "metadata": {},
   "outputs": [],
   "source": [
    "# Initialize and train ESN\n",
    "esn = EchoStateNetwork(\n",
    "    input_dim=1,\n",
    "    reservoir_size=15,\n",
    "    output_dim=1,\n",
    "    leaking_rate=0.9,\n",
    "    step_size=dt_harmonic,\n",
    "    time_scale=2,\n",
    "    spectral_radius=0.8,\n",
    "    sparsity=0.75,\n",
    "    input_scaling=0.5,\n",
    "    regularization=1e-6,\n",
    "    washout=0,\n",
    "    activation=ginf_activator.activate,\n",
    ")\n",
    "\n",
    "# Train on synthetic data\n",
    "esn.fit(inputs, targets)\n",
    "\n",
    "# Generate predictions\n",
    "teacher_ratio=0.25\n",
    "predictions = esn.predict(inputs, teacher_ratio=teacher_ratio)\n",
    "\n",
    "# Calculate prediction error after network settled from np.zeroes initialization\n",
    "print(f\"{mse(targets, predictions) = }\")\n",
    "\n",
    "teacher_mode = int(len(targets)*teacher_ratio)\n",
    "print(f\"{teacher_mode = }\")"
   ]
  },
  {
   "cell_type": "code",
   "execution_count": null,
   "metadata": {},
   "outputs": [],
   "source": [
    "# Initialize and train ESN\n",
    "bpn = BandPassNetwork(\n",
    "    input_dim=1,\n",
    "    reservoir_size=15,\n",
    "    output_dim=1,\n",
    "    leaking_rate=0.9,\n",
    "    step_size=dt_harmonic,\n",
    "    time_scale_avg=4,\n",
    "    time_scale_std=3,\n",
    "    spectral_radius=0.8,\n",
    "    sparsity=0.75,\n",
    "    input_scaling=0.5,\n",
    "    regularization=1e-6,\n",
    "    washout=0,\n",
    "    activation=ginf_activator.activate,\n",
    "    weight_seed = 1,\n",
    ")\n",
    "\n",
    "# Train on synthetic data\n",
    "bpn.fit(inputs, targets)\n",
    "\n",
    "# Generate predictions\n",
    "teacher_ratio=0.25\n",
    "bpn_predictions = bpn.predict(inputs, teacher_ratio=teacher_ratio)\n",
    "\n",
    "# Calculate prediction error after network settled from np.zeroes initialization\n",
    "print(f\"{mse(targets, bpn_predictions) = }\")\n",
    "\n",
    "teacher_mode = int(len(targets)*teacher_ratio)\n",
    "print(f\"{teacher_mode = }\")"
   ]
  },
  {
   "cell_type": "code",
   "execution_count": null,
   "metadata": {},
   "outputs": [],
   "source": [
    "cutoff_min = 100\n",
    "cutoff_max = 440\n",
    "\n",
    "plt.figure(figsize=(6, 3))\n",
    "plt.axvline(x=teacher_mode, linestyle=\"--\", color='black')\n",
    "plt.text(cutoff_min+50, 1.2, 'Teacher-forced:\\nOnly next step predicted', dict(size=10), horizontalalignment='center')\n",
    "plt.text(cutoff_max-100, 1.2, 'Free-running:\\nNetwork output is next input', dict(size=10), horizontalalignment='center')\n",
    "plt.plot(targets, label=\"True signal\",color='blue',linewidth=2)\n",
    "plt.plot(predictions, label=\"ESN prediction\", linestyle=\"--\",color='red',linewidth=2)\n",
    "plt.plot(bpn_predictions, label=\"BPN prediction\", linestyle=\"--\",color='lightgreen',linewidth=2)\n",
    "plt.xlabel(\"Time [s]\", fontsize=14)\n",
    "plt.ylabel(\"Amplitude [a.u.]\", fontsize=14)\n",
    "plt.xlim(cutoff_min, cutoff_max)\n",
    "plt.ylim(-1.15, 1.15)\n",
    "plt.legend(loc='lower right',framealpha=1)\n",
    "plt.savefig(\"output/sine_prediction_plot.pdf\")\n",
    "plt.savefig(\"output/sine_prediction_plot.png\")"
   ]
  },
  {
   "cell_type": "code",
   "execution_count": null,
   "metadata": {},
   "outputs": [],
   "source": [
    "visualize_reservoir(esn)"
   ]
  },
  {
   "cell_type": "code",
   "execution_count": null,
   "metadata": {},
   "outputs": [],
   "source": []
  },
  {
   "cell_type": "markdown",
   "metadata": {},
   "source": [
    "## ESN with Ventilator Pressure Prediction data"
   ]
  },
  {
   "cell_type": "code",
   "execution_count": null,
   "metadata": {},
   "outputs": [],
   "source": [
    "import polars as pl"
   ]
  },
  {
   "cell_type": "code",
   "execution_count": null,
   "metadata": {},
   "outputs": [],
   "source": [
    "data = pl.read_csv(r\"data\\ventilator-pressure-prediction\\train.csv\")[:100000]\n",
    "\n",
    "data = data.to_dummies(columns=[\"R\", \"C\"])\n",
    "\n",
    "split = int(len(data) * 0.8)\n",
    "\n",
    "train_x = data.drop('id','breath_id',\"pressure\")[:split].to_numpy()\n",
    "train_y = data[[\"pressure\"]][:split].to_numpy()\n",
    "test_x = data.drop('id','breath_id',\"pressure\")[split:].to_numpy()\n",
    "test_y = data[[\"pressure\"]][split:].to_numpy()\n",
    "\n",
    "data.drop('id','breath_id',\"pressure\")[:split].head()"
   ]
  },
  {
   "cell_type": "code",
   "execution_count": null,
   "metadata": {},
   "outputs": [],
   "source": [
    "esn = EchoStateNetwork(\n",
    "    input_dim=train_x.shape[1],\n",
    "    reservoir_size=80,\n",
    "    output_dim=train_y.shape[1],\n",
    "    leaking_rate=0.66,\n",
    "    step_size=0.18,\n",
    "    time_scale=3.1,\n",
    "    spectral_radius=0.16,\n",
    "    sparsity=0.75,\n",
    "    input_scaling=0.1,\n",
    "    regularization=0.00047855525,\n",
    "    washout = 100,\n",
    "    activation=ginf_activator.activate,\n",
    "    guarantee_ESP=True,\n",
    "    progress_bar=True,\n",
    ")\n",
    "\n",
    "esn.fit(train_x, train_y)"
   ]
  },
  {
   "cell_type": "code",
   "execution_count": null,
   "metadata": {},
   "outputs": [],
   "source": [
    "predictions = esn.predict(test_x, teacher_ratio=1)\n",
    "print(f\"Test MSE: {mse(test_y, predictions)}\")"
   ]
  },
  {
   "cell_type": "code",
   "execution_count": null,
   "metadata": {},
   "outputs": [],
   "source": [
    "plt.figure(figsize=(20, 6))\n",
    "plt.plot(range(len(test_y)), test_y, label=\"True pressure\")\n",
    "plt.plot(range(len(test_y)), predictions, label=\"ESN prediction\", linestyle=\"--\",)\n",
    "plt.title(\"ESN Predictions vs True Pressure\")\n",
    "plt.xlabel(\"Time\")\n",
    "plt.ylabel(\"Pressure\")\n",
    "plt.xlim(4000, 5000)\n",
    "plt.legend()\n",
    "plt.show()"
   ]
  },
  {
   "cell_type": "markdown",
   "metadata": {},
   "source": [
    "## PWDB"
   ]
  },
  {
   "cell_type": "code",
   "execution_count": null,
   "metadata": {},
   "outputs": [],
   "source": [
    "from pathlib import Path\n",
    "import pandas as pd\n",
    "import matplotlib.pyplot as plt\n",
    "from random import randint\n",
    "from ESN import PulseEchoStateNetwork\n",
    "import numpy as np\n",
    "from sklearn.utils import shuffle\n",
    "from tqdm import tqdm"
   ]
  },
  {
   "cell_type": "code",
   "execution_count": null,
   "metadata": {},
   "outputs": [],
   "source": [
    "pathlist = Path(r'data/pulse-wave-database/PWs_csv/csv').glob('**/*.csv')\n",
    "dfs = []\n",
    "for path in tqdm(pathlist):\n",
    "    df = pd.read_csv(path)\n",
    "    _, df[\"filename\"], df[\"Type\"] = path.name.split(\"_\")\n",
    "    df[\"Type\"] = df[\"Type\"].str.replace(r\"\\.csv$\", \"\", regex=True)\n",
    "    dfs.append(df)\n",
    "final_df = pd.concat(dfs, ignore_index=True)\n",
    "data = pd.read_csv(r'data\\pulse-wave-database\\m.csv')\n",
    "data.index = data.index + 1\n",
    "df = final_df.merge(data, left_on=\"Subject Number\", right_index=True, how=\"left\")\n",
    "pulse_columns = [col for col in df.columns if col.startswith(\" pt\")]\n",
    "df[\"pulse\"] = df[pulse_columns].apply(lambda row: row.dropna().tolist(), axis=1)\n",
    "\n",
    "# Drop the original pulse columns\n",
    "df = df.drop(columns=pulse_columns)\n",
    "df = df[df.Type == 'P']\n",
    "df = df.dropna(subset=['SI'])\n",
    "df = df.reset_index(drop=True)"
   ]
  },
  {
   "cell_type": "code",
   "execution_count": null,
   "metadata": {},
   "outputs": [],
   "source": [
    "n = randint(0, len(df))\n",
    "pulse_data = df.iloc[n][\"pulse\"]\n",
    "\n",
    "plt.figure(figsize=(10, 4))\n",
    "plt.plot(pulse_data, label=\"Pulse Wave\", linewidth=1)\n",
    "plt.xlabel(\"Time (arbitrary units)\")\n",
    "plt.ylabel(\"Amplitude\")\n",
    "#plt.title(f\"Pulse Waveform for {df.iloc[n][\"filename\"]} ({n})\")\n",
    "plt.legend()\n",
    "plt.grid(True)\n",
    "plt.show()"
   ]
  },
  {
   "cell_type": "code",
   "execution_count": null,
   "metadata": {},
   "outputs": [],
   "source": [
    "df_merged = df[[\"filename\", \"SI\", \"pulse\"]].copy()\n",
    "#df_merged[\"SI\"]=(df_merged[\"SI\"]-df_merged[\"SI\"].min())/(df_merged[\"SI\"].max()-df_merged[\"SI\"].min())\n",
    "df_merged = shuffle(df_merged, random_state=42)\n",
    "\n",
    "train_samples = []\n",
    "test_samples = []\n",
    "num_samples = 3000\n",
    "\n",
    "unique_filenames = df_merged[\"filename\"].unique()\n",
    "for filename in unique_filenames:\n",
    "    class_subset = df_merged[df_merged[\"filename\"] == filename]\n",
    "\n",
    "    train_samples.append(class_subset.iloc[:num_samples])\n",
    "    test_samples.append(class_subset.iloc[num_samples:int(num_samples*1.2)])\n",
    "\n",
    "train_set = pd.concat(train_samples).sample(frac=1, random_state=42)\n",
    "test_set = pd.concat(test_samples).sample(frac=1, random_state=42)\n",
    "\n",
    "train_x = list(train_set[\"pulse\"])\n",
    "train_y = train_set[\"SI\"].values.reshape(-1, 1)\n",
    "test_x = list(test_set[\"pulse\"])\n",
    "test_y = test_set[\"SI\"].values.reshape(-1, 1)"
   ]
  },
  {
   "cell_type": "code",
   "execution_count": null,
   "metadata": {},
   "outputs": [],
   "source": [
    "esn = PulseEchoStateNetwork(\n",
    "    input_dim=1,\n",
    "    reservoir_size=1000,\n",
    "    output_dim=1,\n",
    "    leaking_rate=0.9,\n",
    "    step_size=1,\n",
    "    time_scale=50,\n",
    "    spectral_radius=0.4,\n",
    "    sparsity=0.9,\n",
    "    input_scaling=2.3758091737239763e-6,\n",
    "    regularization=0.00047855525,\n",
    "    washout = 3,\n",
    "    guarantee_ESP=False,\n",
    "    progress_bar=True,\n",
    ")\n",
    "\n",
    "esn.fit(train_x, train_y)\n",
    "predictions = esn.predict(test_x)"
   ]
  },
  {
   "cell_type": "code",
   "execution_count": null,
   "metadata": {},
   "outputs": [],
   "source": [
    "np.mean((predictions - test_y) ** 2)"
   ]
  },
  {
   "cell_type": "markdown",
   "metadata": {},
   "source": [
    "One key detail is that in “pulses” mode, the code uses only the final reservoir state of each pulse to produce a single prediction. That single state often fails to capture large variations unless the reservoir is both large and driven strongly. In other words, if you have long pulses with strong peaks, reducing them to one final state makes the readout behave like an “average” of the pulse.\n",
    "\n",
    "You can try the following adjustments:\n",
    "\n",
    "Increase input scaling\n",
    "A larger input_scaling can push reservoir states out of the mild range of tanh, leading to stronger dynamics.\n",
    "\n",
    "Revisit guarantee_ESP\n",
    "The Yildiz “guarantee” is conservative: it forces all initial reservoir weights to be nonnegative and then randomly flips signs. This dampens extremes. Try setting guarantee_ESP=False so weights have a more typical ESN distribution.\n",
    "\n",
    "Use a bigger reservoir or smaller regularization\n",
    "The final readout has to reconstruct the output from a single vector. If that vector is small or lacks variety, the predictions will be muted. A larger reservoir or weaker regularization (\n",
    "𝜆\n",
    "λ) can sometimes help.\n",
    "\n",
    "Consider predicting multiple time steps\n",
    "If your true target is a whole time series (with large peaks) rather than a single scalar per pulse, try the “timestep” mode. That way the readout can adapt at each time step and will not compress entire pulses into one state."
   ]
  },
  {
   "cell_type": "code",
   "execution_count": null,
   "metadata": {},
   "outputs": [],
   "source": [
    "predictions = np.asarray(predictions).ravel()\n",
    "test_y = np.asarray(test_y).ravel()\n",
    "\n",
    "n = 50\n",
    "indices = np.arange(n)\n",
    "width = 0.35\n",
    "\n",
    "plt.figure(figsize=(16, 4))\n",
    "plt.bar(indices - width/2, predictions[:n], width=width, label='Predicted SI')\n",
    "plt.bar(indices + width/2, test_y[:n], width=width, label='Actual SI')\n",
    "plt.title('First 50 Predictions vs. Actual SI')\n",
    "plt.xlabel('Sample index')\n",
    "plt.ylabel('SI value')\n",
    "plt.legend()\n",
    "plt.grid(True)\n",
    "plt.show()"
   ]
  },
  {
   "cell_type": "code",
   "execution_count": null,
   "metadata": {},
   "outputs": [],
   "source": [
    "df_merged = df[[\"filename\", \"SI\", \"pulse\"]].copy()\n",
    "#df_merged[\"SI\"]=(df_merged[\"SI\"]-df_merged[\"SI\"].min())/(df_merged[\"SI\"].max()-df_merged[\"SI\"].min())\n",
    "df_merged = shuffle(df_merged, random_state=42)\n",
    "\n",
    "train_samples = []\n",
    "test_samples = []\n",
    "num_samples = 100\n",
    "\n",
    "unique_filenames = df_merged[\"filename\"].unique()\n",
    "for filename in unique_filenames:\n",
    "    class_subset = df_merged[df_merged[\"filename\"] == filename]\n",
    "\n",
    "    train_samples.append(class_subset.iloc[:num_samples])\n",
    "    test_samples.append(class_subset.iloc[num_samples:int(num_samples*1.2)])\n",
    "\n",
    "train_set = pd.concat(train_samples).sample(frac=1, random_state=42)\n",
    "test_set = pd.concat(test_samples).sample(frac=1, random_state=42)\n",
    "\n",
    "train_x = list(train_set[\"pulse\"])\n",
    "train_y = train_set[\"SI\"].values.reshape(-1, 1)\n",
    "test_x = list(test_set[\"pulse\"])\n",
    "test_y = test_set[\"SI\"].values.reshape(-1, 1)"
   ]
  },
  {
   "cell_type": "code",
   "execution_count": null,
   "metadata": {},
   "outputs": [],
   "source": [
    "esn_loc = PulseEchoStateNetwork(\n",
    "    input_dim=1,\n",
    "    reservoir_size=1000,\n",
    "    output_dim=1,\n",
    "    leaking_rate=0.9,\n",
    "    step_size=1,\n",
    "    time_scale=75,\n",
    "    spectral_radius=0.4,\n",
    "    sparsity=0.9,\n",
    "    input_scaling=2.3758091737239763e-6,\n",
    "    regularization=0.00047855525,\n",
    "    washout = 3,\n",
    "    guarantee_ESP=False,\n",
    "    progress_bar=True,\n",
    ")\n",
    "\n",
    "esn_loc.fit(train_x, train_y)\n",
    "predictions = esn_loc.predict(test_x)"
   ]
  }
 ],
 "metadata": {
  "kernelspec": {
   "display_name": "Python [conda env:base] *",
   "language": "python",
   "name": "conda-base-py"
  },
  "language_info": {
   "codemirror_mode": {
    "name": "ipython",
    "version": 3
   },
   "file_extension": ".py",
   "mimetype": "text/x-python",
   "name": "python",
   "nbconvert_exporter": "python",
   "pygments_lexer": "ipython3",
   "version": "3.9.18"
  }
 },
 "nbformat": 4,
 "nbformat_minor": 4
}
