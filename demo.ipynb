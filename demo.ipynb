{
 "cells": [
  {
   "cell_type": "markdown",
   "metadata": {},
   "source": [
    "# Demo File\n",
    "This demo tests the functionality of the EchoStateNetwork with different time series"
   ]
  },
  {
   "cell_type": "code",
   "execution_count": 4,
   "metadata": {},
   "outputs": [],
   "source": [
    "import matplotlib.pyplot as plt\n",
    "import numpy as np\n",
    "\n",
    "from ESN import EchoStateNetwork\n",
    "from ESN import mackey_glass\n",
    "from ESN import GinfActivator\n",
    "\n",
    "ginf_activator = GinfActivator(V_min=-2, V_max=2, resolution=200, offset=True)\n",
    "\n",
    "def mse(test, predictions):\n",
    "    return np.mean((predictions[100:] - test[100:]) ** 2)"
   ]
  },
  {
   "cell_type": "markdown",
   "metadata": {},
   "source": [
    "# Steady State Conductance Activator"
   ]
  },
  {
   "cell_type": "code",
   "execution_count": null,
   "metadata": {},
   "outputs": [],
   "source": [
    "lookup_table = ginf_activator.get_lookup_table()\n",
    "\n",
    "plt.figure(figsize=(6, 4))\n",
    "plt.plot(lookup_table[0], lookup_table[1], label=r\"$g_{\\text{inf}}(V)$\", color=\"blue\", linewidth=2)\n",
    "plt.xlabel(r\"$V$\", fontsize=14)\n",
    "plt.ylabel(r\"$g_{\\text{inf}}(V)$\", fontsize=14)\n",
    "plt.title(r\"$g_{\\text{inf}}(V) = \\int_0^L g(x, V) \\, dx$\", fontsize=16)\n",
    "plt.grid(True, linestyle=\"--\", alpha=0.6)\n",
    "plt.legend(fontsize=12)\n",
    "plt.savefig(\"output/ginf_activator_plot.pdf\")\n",
    "plt.savefig(\"output/ginf_activator_plot.png\")"
   ]
  },
  {
   "cell_type": "markdown",
   "metadata": {},
   "source": [
    "## ESN with Mackey-Glass time series"
   ]
  },
  {
   "cell_type": "code",
   "execution_count": null,
   "metadata": {},
   "outputs": [],
   "source": [
    "esn = EchoStateNetwork(\n",
    "    input_dim=1,\n",
    "    reservoir_size=3,\n",
    "    output_dim=1,\n",
    "    leaking_rate=1,\n",
    "    step_size=0.3,\n",
    "    time_scale=1,\n",
    "    spectral_radius=1.2,\n",
    "    sparsity=0.85,\n",
    "    input_scaling=0.5,\n",
    "    regularization=1e-6,\n",
    "    activation=ginf_activator.activate,\n",
    ")"
   ]
  },
  {
   "cell_type": "code",
   "execution_count": 7,
   "metadata": {},
   "outputs": [],
   "source": [
    "# Generate Mackey-Glass time series\n",
    "mg_series = mackey_glass(tau=15, n=10000, n_samples=5000)\n",
    "\n",
    "# Normalize data between -1 and 1\n",
    "mg_series = 2 * (mg_series - mg_series.min()) / (mg_series.max() - mg_series.min()) - 1\n",
    "\n",
    "# Create input/output pairs for time series prediction\n",
    "inputs = mg_series[:-1].reshape(-1, 1)\n",
    "targets = mg_series[1:].reshape(-1, 1)\n",
    "\n",
    "# Split into train and test sets\n",
    "train_len = 4000\n",
    "test_len = 1000\n",
    "train_inputs = inputs[:train_len]\n",
    "train_targets = targets[:train_len]\n",
    "test_inputs = inputs[train_len : train_len + test_len]\n",
    "test_targets = targets[train_len : train_len + test_len]"
   ]
  },
  {
   "cell_type": "code",
   "execution_count": 8,
   "metadata": {},
   "outputs": [],
   "source": [
    "# Train on first part of series\n",
    "esn.fit(train_inputs, train_targets, washout=200)\n",
    "\n",
    "# Generate predictions on test set\n",
    "predictions = esn.predict(test_inputs)"
   ]
  },
  {
   "cell_type": "code",
   "execution_count": null,
   "metadata": {},
   "outputs": [],
   "source": [
    "# Calculate prediction error after network settled from np.zeroes initialization\n",
    "print(f\"Test MSE: {mse(test_targets, predictions)}\")"
   ]
  },
  {
   "cell_type": "code",
   "execution_count": null,
   "metadata": {},
   "outputs": [],
   "source": [
    "plt.figure(figsize=(12, 6))\n",
    "plt.plot(test_targets[:400], label=\"True MG series\", alpha=0.8)\n",
    "plt.plot(predictions[:400], label=\"ESN predictions\", linestyle=\"--\", alpha=0.8)\n",
    "plt.title(\"Mackey-Glass Time Series Prediction (First 400 Steps)\")\n",
    "plt.xlabel(\"Time Step\")\n",
    "plt.ylabel(\"Value\")\n",
    "plt.ylim(-1,1)\n",
    "plt.legend()\n",
    "plt.savefig(\"output/mg_prediction_plot.pdf\")\n",
    "plt.savefig(\"output/mg_prediction_plot.png\")"
   ]
  },
  {
   "cell_type": "code",
   "execution_count": null,
   "metadata": {},
   "outputs": [],
   "source": [
    "# Plot phase space reconstruction\n",
    "plt.figure(figsize=(8, 6))\n",
    "plt.plot(test_targets[:-1], test_targets[1:], \"b-\", alpha=0.5, label=\"True\")\n",
    "plt.plot(predictions[:-1], predictions[1:], \"r--\", alpha=0.5, label=\"Predicted\")\n",
    "plt.title(\"Phase Space Reconstruction\")\n",
    "plt.xlabel(\"x(t)\")\n",
    "plt.ylabel(\"x(t+1)\")\n",
    "plt.legend()\n",
    "plt.savefig(\"output/mg_phase_space_plot.pdf\")\n",
    "plt.savefig(\"output/mg_phase_space_plot.png\")"
   ]
  },
  {
   "cell_type": "markdown",
   "metadata": {},
   "source": [
    "## ESN with Harmonic Wave time series"
   ]
  },
  {
   "cell_type": "code",
   "execution_count": 12,
   "metadata": {},
   "outputs": [],
   "source": [
    "# Initialize and train ESN\n",
    "esn = EchoStateNetwork(\n",
    "    input_dim=1,\n",
    "    reservoir_size=100,\n",
    "    output_dim=1,\n",
    "    leaking_rate=1,\n",
    "    step_size=0.3,\n",
    "    time_scale=1,\n",
    "    spectral_radius=0.95,\n",
    "    sparsity=0.7,\n",
    "    input_scaling=1.0,\n",
    "    regularization=1e-4,\n",
    "    activation=np.tanh,\n",
    ")"
   ]
  },
  {
   "cell_type": "code",
   "execution_count": 13,
   "metadata": {},
   "outputs": [],
   "source": [
    "# Generate synthetic data (simple sine wave prediction)\n",
    "t = np.linspace(0, 6 * np.pi, 1000)\n",
    "data = np.sin(t) * np.cos(t) * t\n",
    "\n",
    "# Create input/output pairs for time series prediction\n",
    "inputs = data[:-1].reshape(-1, 1)\n",
    "targets = data[1:].reshape(-1, 1)\n"
   ]
  },
  {
   "cell_type": "code",
   "execution_count": 14,
   "metadata": {},
   "outputs": [],
   "source": [
    "# Train on synthetic data\n",
    "esn.fit(inputs, targets, washout=100)\n",
    "\n",
    "# Generate predictions\n",
    "predictions = esn.predict(inputs)"
   ]
  },
  {
   "cell_type": "code",
   "execution_count": null,
   "metadata": {},
   "outputs": [],
   "source": [
    "plt.figure(figsize=(10, 6))\n",
    "plt.plot(t[:-1], targets, label=\"True signal\")\n",
    "plt.plot(t[:-1], predictions, label=\"ESN prediction\", linestyle=\"--\")\n",
    "plt.title(\"ESN Time Series Prediction\")\n",
    "plt.xlabel(\"Time\")\n",
    "plt.ylabel(\"Value\")\n",
    "plt.legend()\n",
    "plt.savefig(\"output/sine_prediction_plot.pdf\")\n",
    "plt.savefig(\"output/sine_prediction_plot.png\")"
   ]
  },
  {
   "cell_type": "markdown",
   "metadata": {},
   "source": [
    "# Optimize for MG Data"
   ]
  },
  {
   "cell_type": "code",
   "execution_count": 16,
   "metadata": {},
   "outputs": [],
   "source": [
    "import optuna\n",
    "\n",
    "def relu(x):\n",
    "    return np.clip(x, 0, 2)\n",
    "\n",
    "def leaky_relu(x, alpha=0.01):\n",
    "    return np.where(x > 0, x, alpha * x)\n",
    "\n",
    "def sigmoid(x):\n",
    "    return 1 / (1 + np.exp(-x))\n",
    "\n",
    "def softsign(x):\n",
    "    return x / (1 + np.abs(x))\n",
    "\n",
    "activation_functions = {\n",
    "    \"tanh\": np.tanh,\n",
    "    \"clip\": relu,\n",
    "    \"leaky_relu\": leaky_relu,\n",
    "    \"sigmoid\": sigmoid,\n",
    "    \"softsign\": softsign,\n",
    "    \"ginf\": ginf_activator.activate\n",
    "}"
   ]
  },
  {
   "cell_type": "code",
   "execution_count": 17,
   "metadata": {},
   "outputs": [],
   "source": [
    "def objective(trial):\n",
    "    tau = np.random.randint(10, 30)\n",
    "    trial.set_user_attr(\"tau\", tau)\n",
    "\n",
    "    mg_series = mackey_glass(tau=tau, n=10000, n_samples=5000)\n",
    "    mg_series = 2 * (mg_series - mg_series.min()) / (mg_series.max() - mg_series.min()) - 1\n",
    "\n",
    "    inputs = mg_series[:-1].reshape(-1, 1)\n",
    "    targets = mg_series[1:].reshape(-1, 1)\n",
    "\n",
    "    train_len = 4000\n",
    "    test_len = 1000\n",
    "    train_inputs = inputs[:train_len]\n",
    "    train_targets = targets[:train_len]\n",
    "    test_inputs = inputs[train_len : train_len + test_len]\n",
    "    test_targets = targets[train_len : train_len + test_len]\n",
    "\n",
    "    reservoir_size = trial.suggest_int(\"reservoir_size\", 1, 1000, log=True)\n",
    "    leaking_rate = trial.suggest_float(\"leaking_rate\", 0.01, 1.0)\n",
    "    step_size = trial.suggest_float(\"step_size\", 0.0001, 1, log=True)\n",
    "    time_scale = trial.suggest_float(\"time_scale\", 0.1, 5.0)\n",
    "    spectral_radius = trial.suggest_float(\"spectral_radius\", 0.1, 1.2)\n",
    "    sparsity = trial.suggest_float(\"sparsity\", 0.01, 0.99)\n",
    "    input_scaling = trial.suggest_float(\"input_scaling\", 0.1, 10.0, log=True)\n",
    "    regularization = trial.suggest_float(\"regularization\", 1e-6, 1e-2, log=True)\n",
    "\n",
    "    activation_name = trial.suggest_categorical(\"activation\", list(activation_functions.keys()))\n",
    "    trial.set_user_attr(\"Activation name\", activation_name)\n",
    "    activation_func = activation_functions[activation_name]\n",
    "\n",
    "    # Enforce the constraint before constructing the ESN\n",
    "    if leaking_rate * (step_size / time_scale) > 1:\n",
    "        raise optuna.exceptions.TrialPruned(\"Leaking rate * step_size/time_scale > 1\")\n",
    "\n",
    "    esn = EchoStateNetwork(\n",
    "        input_dim=1,\n",
    "        reservoir_size=reservoir_size,\n",
    "        output_dim=1,\n",
    "        leaking_rate=leaking_rate,\n",
    "        step_size=step_size,\n",
    "        time_scale=time_scale,\n",
    "        spectral_radius=spectral_radius,\n",
    "        sparsity=sparsity,\n",
    "        input_scaling=input_scaling,\n",
    "        regularization=regularization,\n",
    "        activation=activation_func,\n",
    "    )\n",
    "    esn.fit(train_inputs, train_targets, washout=200)\n",
    "\n",
    "    predictions = esn.predict(test_inputs)\n",
    "    loss = mse(test_targets, predictions)\n",
    "    return min(loss, 1)"
   ]
  },
  {
   "cell_type": "code",
   "execution_count": 18,
   "metadata": {},
   "outputs": [],
   "source": [
    "try:\n",
    "    study_name=\"ESN optimization MG 🔥\"\n",
    "    storage=\"sqlite:///optuna_esn_MG.db\"\n",
    "\n",
    "    optuna.delete_study(study_name=study_name, storage=storage)\n",
    "except Exception:\n",
    "    print(\"No database available\")"
   ]
  },
  {
   "cell_type": "markdown",
   "metadata": {},
   "source": [
    "optuna-dashboard sqlite:///optuna_esn_MG.db"
   ]
  },
  {
   "cell_type": "code",
   "execution_count": null,
   "metadata": {},
   "outputs": [],
   "source": [
    "study = optuna.create_study(\n",
    "    direction=\"minimize\",\n",
    "    study_name=study_name,\n",
    "    storage=storage,\n",
    "    load_if_exists=True,\n",
    ")\n",
    "study.optimize(objective, n_trials=1024, n_jobs=-1)\n",
    "\n",
    "best_params = study.best_params\n",
    "print(\"Best Hyperparameters:\", best_params)"
   ]
  }
 ],
 "metadata": {
  "kernelspec": {
   "display_name": ".venv",
   "language": "python",
   "name": "python3"
  },
  "language_info": {
   "codemirror_mode": {
    "name": "ipython",
    "version": 3
   },
   "file_extension": ".py",
   "mimetype": "text/x-python",
   "name": "python",
   "nbconvert_exporter": "python",
   "pygments_lexer": "ipython3",
   "version": "3.12.0"
  }
 },
 "nbformat": 4,
 "nbformat_minor": 4
}
